{
 "cells": [
  {
   "cell_type": "markdown",
   "metadata": {},
   "source": [
    "# 单链表\n",
    "1. append\n",
    "2. appendleft\n",
    "3. remove\n",
    "4. insert\n",
    "5. popleft\n",
    "6. find\n",
    "7. clear\n",
    "8. iter_node"
   ]
  },
  {
   "cell_type": "code",
   "execution_count": 4,
   "metadata": {},
   "outputs": [],
   "source": [
    "class Node(object):\n",
    "    def __init__(self, value = None, next = None):\n",
    "        self.value = value\n",
    "        self.next  = next\n",
    "    def __str__(self):\n",
    "        return 'Node: value: {}, next = {}'.format(self.value, self.next)\n",
    "    \n",
    "    __repr__ = __str__\n",
    "    \n",
    "class LinkedList(object):\n",
    "    def __init__(self, maxsize = None):\n",
    "        self.maxsize = maxsize\n",
    "        self.root = Node()\n",
    "        self.tailnode = None\n",
    "        self.length = 0\n",
    "        \n",
    "    def __len__(self):\n",
    "        return self.length\n",
    "    \n",
    "    def append(self, value):\n",
    "        if self.maxsize is not None and len(self) >= self.maxsize:\n",
    "            raise Exception('LinkedList is full')\n",
    "        node = Node(value)\n",
    "        tailnode = self.tailnode\n",
    "        if tailnode is None:\n",
    "            self.root.next = node\n",
    "        else:\n",
    "            tailnode.next = node\n",
    "        self.length += 1\n",
    "        self.tailnode = node\n",
    "        \n",
    "    def appendleft(self, value):\n",
    "        if self.maxsize is not None or \\\n",
    "        len(self) >= self.maxsize:\n",
    "            raise Exception('LinkedList is full')\n",
    "        node = Node(value)\n",
    "        if self.tailnode is None:\n",
    "            self.tailnode = node\n",
    "        headnode = self.root.next\n",
    "        self.root.next = node\n",
    "        node.next = headnode\n",
    "        self.length += 1\n",
    "        \n",
    "    def __iter__(self):\n",
    "        for node in self.iter_node():\n",
    "            yield node.value\n",
    "            \n",
    "    def iter_node(self):\n",
    "        curnode = self.root.next\n",
    "        #while curnode:\n",
    "        #    yield curnode\n",
    "        #    curnode = curnode.next  \n",
    "        #与下面一种写法比较，哪一种更稳定呢？\n",
    "        while curnode is not self.tailnode:\n",
    "            yield curnode\n",
    "            curnode = curnode.next\n",
    "        if curnode is not None:\n",
    "            yield curnode\n",
    "            \n",
    "    def remove(self, value):\n",
    "        if self.length == 0:\n",
    "            raise Exception('This is an empty linkedlist')\n",
    "        prevnode = self.root\n",
    "        for curnode in self.iter_node():\n",
    "            if curnode.value == value:\n",
    "                prevnode.next = curnode.next\n",
    "                if curnode is self.tailnode:\n",
    "                    self.tailnode = prevnode\n",
    "                del curnode\n",
    "                self.length -= 1\n",
    "                return 'remove node accomplished'\n",
    "            else:\n",
    "                prevnode = curnode\n",
    "        return 'no such node in linkedList'\n",
    "    \n",
    "    def find(self, value):\n",
    "        if self.length == 0:\n",
    "            raise Exception('This is an empty linkedList')\n",
    "        index = 0\n",
    "        for curnode in self.iter_node():\n",
    "            if curnode.value == value:\n",
    "                return index\n",
    "            index += 1\n",
    "        return 'didn\\'t find this node'\n",
    "    \n",
    "    def popleft(self):\n",
    "        if self.length == 0:\n",
    "            raise Exception('This is an empty linkedList')\n",
    "        headnode = self.root.next\n",
    "        value = headnode.value\n",
    "        self.root.next = headnode.next\n",
    "        self.lenght -= 1\n",
    "        if headnode is self.tailnode:\n",
    "            self.tailnode = None\n",
    "        del headnode\n",
    "        return value\n",
    "    \n",
    "    def clear(self):\n",
    "        for curnode in self.iter_node():\n",
    "            del node\n",
    "        self.root     = None\n",
    "        self.tailnode = None\n",
    "        self.length   = 0\n",
    "        \n",
    "    def insert(self, value, newvalue):\n",
    "        #在指定的value前，插入newvalue\n",
    "        if self.length in (0, self.maxsize):\n",
    "            raise Exception('Cannot do this')\n",
    "        prevnode = self.root\n",
    "        node = Node(newvalue)\n",
    "        for curnode in self.iter_node():\n",
    "            if curnode.value == value:\n",
    "                prevnode.next = node\n",
    "                node.next = curnode\n",
    "                self.length += 1\n",
    "                return 'action finished'\n",
    "            else:\n",
    "                prevnode = curnode\n",
    "        return 'fail to insert'"
   ]
  },
  {
   "cell_type": "markdown",
   "metadata": {},
   "source": [
    "# [从尾到头打印链表的值](https://www.nowcoder.com/practice/d0267f7f55b3412ba93bd35cfa8e8035?tpId=13&tqId=11156&tPage=1&rp=1&ru=%2Fta%2Fcoding-interviews&qru=%2Fta%2Fcoding-interviews%2Fquestion-ranking)"
   ]
  },
  {
   "cell_type": "markdown",
   "metadata": {},
   "source": [
    "```python\n",
    "# Pythonic\n",
    "def printReverse1(listNode):\n",
    "    if not listNode:\n",
    "        raise Exception('invalid input')\n",
    "    lst = []\n",
    "    while listNode:\n",
    "        lst.append(listNode.value)\n",
    "        listNode = listNode.next\n",
    "    return lst[::-1]\n",
    "\n",
    "# 递归\n",
    "def printReverse2(listNode):\n",
    "    if not listNode:\n",
    "        raise Exception('invalid input')\n",
    "    lst = []\n",
    "    if listNode:\n",
    "        if listNode.next:\n",
    "            lst += printReverse2(listNode.next)\n",
    "        lst.append(listNode.value)\n",
    "    return lst\n",
    "\n",
    "# 模拟栈\n",
    "def printReverse3(listNode):\n",
    "    if not listNode:\n",
    "        raise Exception('invalid input')\n",
    "    lst = []\n",
    "    while listNode:\n",
    "        lst.append(listNode.value)\n",
    "        listNode = listNode.next\n",
    "    lst = [lst.pop() for i in range(len(lst))]\n",
    "    return lst\n",
    "```"
   ]
  },
  {
   "cell_type": "markdown",
   "metadata": {},
   "source": [
    "# [反转链表](https://www.nowcoder.com/practice/75e878df47f24fdc9dc3e400ec6058ca?tpId=13&tqId=11168&tPage=1&rp=1&ru=%2Fta%2Fcoding-interviews&qru=%2Fta%2Fcoding-interviews%2Fquestion-ranking)\n",
    "输入一个链表，反转链表后，输出新链表的表头\n",
    "```python\n",
    "class ListNode:\n",
    "    def __init__(self, x):\n",
    "        self.val = x\n",
    "        self.next = None\n",
    "class Solution(object):\n",
    "    # 返回ListNode\n",
    "    def ReverseList1(self, pHead):\n",
    "        # write code here\n",
    "        if pHead is None or pHead.next is None:\n",
    "            return pHead\n",
    "        lst = []\n",
    "        while pHead is not None:\n",
    "            lst.append(pHead)\n",
    "            pHead = pHead.next\n",
    "        index = len(lst) - 1\n",
    "        while index > 0:\n",
    "            lst[index].next = lst[index-1]\n",
    "            index -= 1\n",
    "        lst[0].next = None\n",
    "        return lst[len(lst)-1]\n",
    "    \n",
    "    def reverseList2(self, pHead):\n",
    "        if pHead is None or pHead.next is None:\n",
    "            return pHead\n",
    "        last = None\n",
    "        while pHead:\n",
    "            temp = pHead.next\n",
    "            pHead.next = last\n",
    "            last = pHead\n",
    "            pHead = temp\n",
    "        return last\n",
    "```"
   ]
  },
  {
   "cell_type": "markdown",
   "metadata": {},
   "source": [
    "# [链表中倒数第k个结点](https://www.nowcoder.com/practice/529d3ae5a407492994ad2a246518148a?tpId=13&tqId=11167&tPage=1&rp=1&ru=%2Fta%2Fcoding-interviews&qru=%2Fta%2Fcoding-interviews%2Fquestion-ranking)\n",
    "输入一个链表，输出该链表中倒数第k个结点"
   ]
  },
  {
   "cell_type": "markdown",
   "metadata": {},
   "source": [
    "```python\n",
    "class ListNode:\n",
    "    def __init__(self, value):\n",
    "        self.value = value\n",
    "        self.next  = None\n",
    "        \n",
    "    def findKth2tail1(self, head, k):\n",
    "        # 模拟栈\n",
    "        lst = []\n",
    "        while head is not None:\n",
    "            lst.append(head)\n",
    "            head = head.next\n",
    "        if k > len(lst) or k < 1:\n",
    "            return None\n",
    "        return lst[-k]\n",
    "    \n",
    "    def findKth2tail2(self, head, k):\n",
    "        first = last = head\n",
    "        step = 0\n",
    "        while first:\n",
    "            if step >= k:\n",
    "                last = last.next\n",
    "            step += 1\n",
    "            first = first.next\n",
    "        if step < k:\n",
    "            return None\n",
    "        else:\n",
    "            return last\n",
    "```"
   ]
  },
  {
   "cell_type": "markdown",
   "metadata": {},
   "source": [
    "# [合并两个有序的链表](https://www.nowcoder.com/practice/d8b6b4358f774294a89de2a6ac4d9337?tpId=13&tqId=11169&tPage=1&rp=1&ru=%2Fta%2Fcoding-interviews&qru=%2Fta%2Fcoding-interviews%2Fquestion-ranking)\n",
    "输入两个单调递增的链表，输出两个链表合成后的链表，当然我们需要合成后的链表满足单调不减规则。"
   ]
  },
  {
   "cell_type": "code",
   "execution_count": null,
   "metadata": {},
   "outputs": [],
   "source": []
  },
  {
   "cell_type": "markdown",
   "metadata": {},
   "source": [
    "# [复杂链表的复制](https://www.nowcoder.com/practice/f836b2c43afc4b35ad6adc41ec941dba?tpId=13&tqId=11178&tPage=2&rp=2&ru=/ta/coding-interviews&qru=/ta/coding-interviews/question-ranking)\n",
    "输入一个复杂链表（每个节点中有节点值，以及两个指针，一个指向下一个节点，另一个特殊指针指向任意一个节点），返回结果为复制后复杂链表的head。（注意，输出结果中请不要返回参数中的节点引用，否则判题程序会直接返回空"
   ]
  },
  {
   "cell_type": "code",
   "execution_count": null,
   "metadata": {},
   "outputs": [],
   "source": []
  },
  {
   "cell_type": "markdown",
   "metadata": {},
   "source": [
    "# [二叉搜索树与双向链表](https://www.nowcoder.com/practice/947f6eb80d944a84850b0538bf0ec3a5?tpId=13&tqId=11179&tPage=2&rp=2&ru=%2Fta%2Fcoding-interviews&qru=%2Fta%2Fcoding-interviews%2Fquestion-ranking)\n",
    "输入一棵二叉搜索树，将该二叉搜索树转换成一个排序的双向链表。要求不能创建任何新的结点，只能调整树中结点指针的指向。"
   ]
  },
  {
   "cell_type": "code",
   "execution_count": null,
   "metadata": {},
   "outputs": [],
   "source": []
  },
  {
   "cell_type": "markdown",
   "metadata": {},
   "source": [
    "# [两个链表的第一个公共结点](https://www.nowcoder.com/practice/6ab1d9a29e88450685099d45c9e31e46?tpId=13&tqId=11189&tPage=2&rp=2&ru=/ta/coding-interviews&qru=/ta/coding-interviews/question-ranking)\n",
    "输入两个链表，找出它们的第一个公共结点。"
   ]
  },
  {
   "cell_type": "code",
   "execution_count": null,
   "metadata": {},
   "outputs": [],
   "source": []
  },
  {
   "cell_type": "markdown",
   "metadata": {},
   "source": [
    "# [链表中换的入口结点](https://www.nowcoder.com/practice/253d2c59ec3e4bc68da16833f79a38e4?tpId=13&tqId=11208&tPage=3&rp=3&ru=/ta/coding-interviews&qru=/ta/coding-interviews/question-ranking)\n",
    "给一个链表，若其中包含环，请找出该链表的环的入口结点，否则，输出null。"
   ]
  },
  {
   "cell_type": "code",
   "execution_count": null,
   "metadata": {},
   "outputs": [],
   "source": []
  },
  {
   "cell_type": "markdown",
   "metadata": {},
   "source": [
    "# [删除链表中重复的结点](https://www.nowcoder.com/practice/fc533c45b73a41b0b44ccba763f866ef?tpId=13&tqId=11209&tPage=3&rp=3&ru=/ta/coding-interviews&qru=/ta/coding-interviews/question-ranking)\n",
    "在一个排序的链表中，存在重复的结点，请删除该链表中重复的结点，重复的结点不保留，返回链表头指针。 例如，链表1->2->3->3->4->4->5 处理后为 1->2->5"
   ]
  },
  {
   "cell_type": "code",
   "execution_count": null,
   "metadata": {},
   "outputs": [],
   "source": []
  },
  {
   "cell_type": "markdown",
   "metadata": {},
   "source": [
    "# LRU"
   ]
  },
  {
   "cell_type": "code",
   "execution_count": null,
   "metadata": {},
   "outputs": [],
   "source": []
  },
  {
   "cell_type": "markdown",
   "metadata": {},
   "source": [
    "# 双向循环链表"
   ]
  },
  {
   "cell_type": "code",
   "execution_count": null,
   "metadata": {},
   "outputs": [],
   "source": []
  }
 ],
 "metadata": {
  "kernelspec": {
   "display_name": "Python 3",
   "language": "python",
   "name": "python3"
  },
  "language_info": {
   "codemirror_mode": {
    "name": "ipython",
    "version": 3
   },
   "file_extension": ".py",
   "mimetype": "text/x-python",
   "name": "python",
   "nbconvert_exporter": "python",
   "pygments_lexer": "ipython3",
   "version": "3.6.5"
  },
  "toc": {
   "base_numbering": 1,
   "nav_menu": {},
   "number_sections": true,
   "sideBar": true,
   "skip_h1_title": false,
   "title_cell": "Table of Contents",
   "title_sidebar": "Contents",
   "toc_cell": false,
   "toc_position": {
    "height": "calc(100% - 180px)",
    "left": "10px",
    "top": "150px",
    "width": "178px"
   },
   "toc_section_display": true,
   "toc_window_display": false
  }
 },
 "nbformat": 4,
 "nbformat_minor": 2
}

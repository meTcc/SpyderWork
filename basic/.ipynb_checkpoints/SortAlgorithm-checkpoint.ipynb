{
 "cells": [
  {
   "cell_type": "markdown",
   "metadata": {},
   "source": [
    "# sort algorithm"
   ]
  },
  {
   "cell_type": "markdown",
   "metadata": {},
   "source": [
    "## Bubble sort and Select sort"
   ]
  },
  {
   "cell_type": "code",
   "execution_count": 3,
   "metadata": {},
   "outputs": [],
   "source": [
    "arr1 = [10, 6, 12, 1, 4, 2, 6, 5, 9, 8]\n",
    "arr2 = [0, 1, 2, 4.5, 3.5, 8, 10, 8, 4]"
   ]
  },
  {
   "cell_type": "code",
   "execution_count": 13,
   "metadata": {},
   "outputs": [],
   "source": [
    "class Sort(object):\n",
    "    def ___init__(self):\n",
    "        pass\n",
    "    \n",
    "    def bubbleSort(self, arr):\n",
    "        if not arr:\n",
    "            return []\n",
    "        for i in range(len(arr)):\n",
    "            for j in range(len(arr) - i - 1):\n",
    "                if arr[j] >= arr[j+1]:\n",
    "                    arr[j], arr[j+1] = arr[j+1], arr[j]\n",
    "        return arr\n",
    "    \n",
    "    def selectSort(self, arr):\n",
    "        if not arr:\n",
    "            return []\n",
    "        for i in range(len(arr)):\n",
    "            index = i\n",
    "            for j in range(i + 1, len(arr)):\n",
    "                if arr[index] > arr[j]:\n",
    "                    index, j = j, index\n",
    "            arr[index], arr[i] = arr[i], arr[index]\n",
    "        return arr\n",
    "    \n",
    "             "
   ]
  },
  {
   "cell_type": "code",
   "execution_count": 14,
   "metadata": {},
   "outputs": [
    {
     "name": "stdout",
     "output_type": "stream",
     "text": [
      "bubble sort(test arr1): [1, 2, 4, 5, 6, 6, 8, 9, 10, 12]\n",
      "bubble sort(test arr2): [0, 1, 2, 3.5, 4, 4.5, 8, 8, 10]\n",
      "--------------------------------------------------\n",
      "select sort(test arr1): [1, 2, 4, 5, 6, 6, 8, 9, 10, 12]\n",
      "select sort(test arr2): [0, 1, 2, 3.5, 4, 4.5, 8, 8, 10]\n"
     ]
    }
   ],
   "source": [
    "man = Sort()\n",
    "print('bubble sort(test arr1):', man.bubbleSort(arr1))\n",
    "print('bubble sort(test arr2):', man.bubbleSort(arr2))\n",
    "print('--------------------------------------------------')\n",
    "print('select sort(test arr1):', man.selectSort(arr1))\n",
    "print('select sort(test arr2):', man.selectSort(arr2))"
   ]
  },
  {
   "cell_type": "markdown",
   "metadata": {},
   "source": [
    "## Quick Sort Recursive"
   ]
  },
  {
   "cell_type": "code",
   "execution_count": 31,
   "metadata": {},
   "outputs": [],
   "source": [
    "def quickSortRec(arr, start, end):\n",
    "    if not arr:\n",
    "        return []\n",
    "    if start < end:\n",
    "        low, high = start, end\n",
    "        key = arr[start]\n",
    "        while low < high:\n",
    "            while low < high and key <= arr[high]:\n",
    "                high -= 1\n",
    "            arr[low] = arr[high]\n",
    "            while low < high and key > arr[low]:\n",
    "                low += 1\n",
    "            arr[high] = arr[low]\n",
    "            arr[low] = key\n",
    "        quickSortRec(arr, start, low - 1)\n",
    "        quickSortRec(arr, low + 1, end)\n",
    "    return arr\n",
    "\n",
    "def quickSortRec2(arr, start, end):\n",
    "    if not arr:\n",
    "        return []\n",
    "    if start < end:\n",
    "        mid = partition(arr, start, end)\n",
    "        quickSortRec2(arr, start, mid - 1)\n",
    "        quickSortRec2(arr, mid + 1, end)\n",
    "    return arr\n",
    "\n",
    "def partition(arr, start, end):\n",
    "    low, high = start, end\n",
    "    key = arr[start]\n",
    "    while low < high:\n",
    "        while low < high and key <= arr[high]:\n",
    "            high -= 1\n",
    "        arr[low] = arr[high]\n",
    "        while low < high and key > arr[low]:\n",
    "            low += 1\n",
    "        arr[high] = arr[low]\n",
    "        arr[low] = key\n",
    "    return low"
   ]
  },
  {
   "cell_type": "markdown",
   "metadata": {},
   "source": [
    "## Quick sort Non Recursive"
   ]
  },
  {
   "cell_type": "code",
   "execution_count": 37,
   "metadata": {},
   "outputs": [],
   "source": [
    "class Stack(object):\n",
    "    def __init__(self, size):\n",
    "        self.size  = size\n",
    "        self.stack = []\n",
    "    def getSize(self):\n",
    "        return len(self.stack)\n",
    "    def push(self, val):\n",
    "        if self.isFull():\n",
    "            raise Exception('Stack is Full!')\n",
    "        self.stack.append(val)\n",
    "    def top(self):\n",
    "        if self.isEmpty():\n",
    "            raise Exception('Stack is empty')\n",
    "        return self.stack[-1]\n",
    "    def pop(self):\n",
    "        if self.isEmpty():\n",
    "            raise Exception('Stack is empty')\n",
    "        self.stack.pop()\n",
    "    def isFull(self):\n",
    "        if self.size == len(self.stack):\n",
    "            return True\n",
    "        else:\n",
    "            return False\n",
    "    def isEmpty(self):\n",
    "        if not self.stack:\n",
    "            return True\n",
    "        else:\n",
    "            return False\n",
    "    \n",
    "    \n",
    "def quickSortNonRec(arr, start, end):\n",
    "    stack = Stack(len(arr))\n",
    "    if start < end:\n",
    "        stack.push(end)\n",
    "        stack.push(start)\n",
    "        while not stack.isEmpty():\n",
    "            low  = stack.top()\n",
    "            stack.pop()\n",
    "            high = stack.top()\n",
    "            stack.pop()\n",
    "            mid = partition(arr, low, high)\n",
    "            if low < mid - 1:\n",
    "                stack.push(mid - 1)\n",
    "                stack.push(low)\n",
    "            if high > mid + 1:\n",
    "                stack.push(high)\n",
    "                stack.push(mid + 1)\n",
    "    return arr\n",
    "    \n",
    "\n",
    "def partition(arr, start, end):\n",
    "    low, high = start, end\n",
    "    key = arr[start]\n",
    "    while low < high:\n",
    "        while low < high and key <= arr[high]:\n",
    "            high -= 1\n",
    "        arr[low] = arr[high]\n",
    "        while low < high and key > arr[low]:\n",
    "            low  += 1\n",
    "        arr[high] = arr[low]\n",
    "        arr[low]  = key\n",
    "    return low"
   ]
  },
  {
   "cell_type": "code",
   "execution_count": 38,
   "metadata": {},
   "outputs": [
    {
     "data": {
      "text/plain": [
       "[1, 2, 3, 4, 5, 6, 7, 8, 9, 10]"
      ]
     },
     "execution_count": 38,
     "metadata": {},
     "output_type": "execute_result"
    }
   ],
   "source": [
    "arr1 = [7, 6, 3, 10, 4, 2, 1, 5, 9, 8]\n",
    "quickSortNonRec(arr1, 0, len(arr1) - 1)\n",
    "arr1"
   ]
  },
  {
   "cell_type": "markdown",
   "metadata": {},
   "source": [
    "## Insert sort"
   ]
  },
  {
   "cell_type": "code",
   "execution_count": 39,
   "metadata": {},
   "outputs": [],
   "source": [
    "def insertSort(arr):\n",
    "    if not arr:\n",
    "        return []\n",
    "    elif len(arr) == 1:\n",
    "        return arr\n",
    "    for i in range(1, len(arr)):\n",
    "        key = arr[i]\n",
    "        j = i - 1\n",
    "        while j >= 0 and arr[j] > key:\n",
    "            arr[j+1] = arr[j]\n",
    "            j -= 1\n",
    "        arr[j+1] = key\n",
    "    return arr"
   ]
  },
  {
   "cell_type": "code",
   "execution_count": 40,
   "metadata": {
    "collapsed": true
   },
   "outputs": [
    {
     "name": "stdout",
     "output_type": "stream",
     "text": [
      "[1, 2, 3, 4, 5, 6, 7, 8, 9, 10]\n"
     ]
    }
   ],
   "source": [
    "arr1 = [7, 6, 3, 10, 4, 2, 1, 5, 9, 8]\n",
    "print(insertSort(arr1))"
   ]
  },
  {
   "cell_type": "markdown",
   "metadata": {},
   "source": [
    "## Merge sort"
   ]
  },
  {
   "cell_type": "code",
   "execution_count": 61,
   "metadata": {},
   "outputs": [],
   "source": [
    "from math import floor\n",
    "\n",
    "def mergeSort(arr, start, end):\n",
    "    if start < end:\n",
    "        mid = floor((start + end) / 2)\n",
    "        mergeSort(arr, start, mid)\n",
    "        mergeSort(arr, mid + 1, end)\n",
    "        merge(arr, start, mid, end)\n",
    "    return arr\n",
    "\n",
    "def merge(arr, start, mid, end):\n",
    "    '''\n",
    "    b1: beginPart1\n",
    "    b2: beginPart2\n",
    "    '''\n",
    "    lst = []\n",
    "    b1, b2 = start, mid + 1\n",
    "    while b1 <= mid and b2 <= end:\n",
    "        if arr[b1] >= arr[b2]:\n",
    "            lst.append(arr[b2])\n",
    "            b2 += 1\n",
    "        else:\n",
    "            lst.append(arr[b1])\n",
    "            b1 += 1\n",
    "    \n",
    "    while b1 <= mid:\n",
    "        lst.append(arr[b1])\n",
    "        b1 += 1\n",
    "    while b2 <= end:\n",
    "        lst.append(arr[b2])\n",
    "        b2 += 1\n",
    "    \n",
    "    arr[start:end+1] = lst\n",
    "    return arr"
   ]
  },
  {
   "cell_type": "code",
   "execution_count": 63,
   "metadata": {},
   "outputs": [
    {
     "name": "stdout",
     "output_type": "stream",
     "text": [
      "[1, 2, 3, 4, 5, 6, 7, 8, 9, 10]\n"
     ]
    }
   ],
   "source": [
    "arr = [7, 6, 3, 10, 4, 2, 1, 5, 9, 8]\n",
    "#arr = [5, 4]\n",
    "print(mergeSort(arr, 0, len(arr) - 1))"
   ]
  },
  {
   "cell_type": "markdown",
   "metadata": {},
   "source": [
    "## Heap sort"
   ]
  },
  {
   "cell_type": "code",
   "execution_count": null,
   "metadata": {},
   "outputs": [],
   "source": []
  },
  {
   "cell_type": "markdown",
   "metadata": {},
   "source": [
    "## Shell sort"
   ]
  },
  {
   "cell_type": "code",
   "execution_count": null,
   "metadata": {},
   "outputs": [],
   "source": []
  }
 ],
 "metadata": {
  "kernelspec": {
   "display_name": "Python 3",
   "language": "python",
   "name": "python3"
  },
  "language_info": {
   "codemirror_mode": {
    "name": "ipython",
    "version": 3
   },
   "file_extension": ".py",
   "mimetype": "text/x-python",
   "name": "python",
   "nbconvert_exporter": "python",
   "pygments_lexer": "ipython3",
   "version": "3.6.5"
  },
  "toc": {
   "base_numbering": 1,
   "nav_menu": {},
   "number_sections": true,
   "sideBar": true,
   "skip_h1_title": false,
   "title_cell": "Table of Contents",
   "title_sidebar": "Contents",
   "toc_cell": false,
   "toc_position": {},
   "toc_section_display": true,
   "toc_window_display": true
  }
 },
 "nbformat": 4,
 "nbformat_minor": 2
}

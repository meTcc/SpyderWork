{
 "cells": [
  {
   "cell_type": "markdown",
   "metadata": {},
   "source": [
    "# sort algorithm"
   ]
  },
  {
   "cell_type": "markdown",
   "metadata": {},
   "source": [
    "## Bubble sort and Select sort"
   ]
  },
  {
   "cell_type": "code",
   "execution_count": 3,
   "metadata": {},
   "outputs": [],
   "source": [
    "arr1 = [10, 6, 12, 1, 4, 2, 6, 5, 9, 8]\n",
    "arr2 = [0, 1, 2, 4.5, 3.5, 8, 10, 8, 4]"
   ]
  },
  {
   "cell_type": "code",
   "execution_count": 13,
   "metadata": {},
   "outputs": [],
   "source": [
    "class Sort(object):\n",
    "    def ___init__(self):\n",
    "        pass\n",
    "    \n",
    "    def bubbleSort(self, arr):\n",
    "        if not arr:\n",
    "            return []\n",
    "        for i in range(len(arr)):\n",
    "            for j in range(len(arr) - i - 1):\n",
    "                if arr[j] >= arr[j+1]:\n",
    "                    arr[j], arr[j+1] = arr[j+1], arr[j]\n",
    "        return arr\n",
    "    \n",
    "    def selectSort(self, arr):\n",
    "        if not arr:\n",
    "            return []\n",
    "        for i in range(len(arr)):\n",
    "            index = i\n",
    "            for j in range(i + 1, len(arr)):\n",
    "                if arr[index] > arr[j]:\n",
    "                    index, j = j, index\n",
    "            arr[index], arr[i] = arr[i], arr[index]\n",
    "        return arr\n",
    "    \n",
    "             "
   ]
  },
  {
   "cell_type": "code",
   "execution_count": 14,
   "metadata": {},
   "outputs": [
    {
     "name": "stdout",
     "output_type": "stream",
     "text": [
      "bubble sort(test arr1): [1, 2, 4, 5, 6, 6, 8, 9, 10, 12]\n",
      "bubble sort(test arr2): [0, 1, 2, 3.5, 4, 4.5, 8, 8, 10]\n",
      "--------------------------------------------------\n",
      "select sort(test arr1): [1, 2, 4, 5, 6, 6, 8, 9, 10, 12]\n",
      "select sort(test arr2): [0, 1, 2, 3.5, 4, 4.5, 8, 8, 10]\n"
     ]
    }
   ],
   "source": [
    "man = Sort()\n",
    "print('bubble sort(test arr1):', man.bubbleSort(arr1))\n",
    "print('bubble sort(test arr2):', man.bubbleSort(arr2))\n",
    "print('--------------------------------------------------')\n",
    "print('select sort(test arr1):', man.selectSort(arr1))\n",
    "print('select sort(test arr2):', man.selectSort(arr2))"
   ]
  },
  {
   "cell_type": "markdown",
   "metadata": {},
   "source": [
    "## Quick Sort Recursive"
   ]
  },
  {
   "cell_type": "code",
   "execution_count": 31,
   "metadata": {},
   "outputs": [],
   "source": [
    "def quickSortRec(arr, start, end):\n",
    "    if not arr:\n",
    "        return []\n",
    "    if start < end:\n",
    "        low, high = start, end\n",
    "        key = arr[start]\n",
    "        while low < high:\n",
    "            while low < high and key <= arr[high]:\n",
    "                high -= 1\n",
    "            arr[low] = arr[high]\n",
    "            while low < high and key > arr[low]:\n",
    "                low += 1\n",
    "            arr[high] = arr[low]\n",
    "            arr[low] = key\n",
    "        quickSortRec(arr, start, low - 1)\n",
    "        quickSortRec(arr, low + 1, end)\n",
    "    return arr\n",
    "\n",
    "def quickSortRec2(arr, start, end):\n",
    "    if not arr:\n",
    "        return []\n",
    "    if start < end:\n",
    "        mid = partition(arr, start, end)\n",
    "        quickSortRec2(arr, start, mid - 1)\n",
    "        quickSortRec2(arr, mid + 1, end)\n",
    "    return arr\n",
    "\n",
    "def partition(arr, start, end):\n",
    "    low, high = start, end\n",
    "    key = arr[start]\n",
    "    while low < high:\n",
    "        while low < high and key <= arr[high]:\n",
    "            high -= 1\n",
    "        arr[low] = arr[high]\n",
    "        while low < high and key > arr[low]:\n",
    "            low += 1\n",
    "        arr[high] = arr[low]\n",
    "        arr[low] = key\n",
    "    return low"
   ]
  },
  {
   "cell_type": "markdown",
   "metadata": {},
   "source": [
    "## Quick sort Non Recursive"
   ]
  },
  {
   "cell_type": "code",
   "execution_count": 37,
   "metadata": {},
   "outputs": [],
   "source": [
    "class Stack(object):\n",
    "    def __init__(self, size):\n",
    "        self.size  = size\n",
    "        self.stack = []\n",
    "    def getSize(self):\n",
    "        return len(self.stack)\n",
    "    def push(self, val):\n",
    "        if self.isFull():\n",
    "            raise Exception('Stack is Full!')\n",
    "        self.stack.append(val)\n",
    "    def top(self):\n",
    "        if self.isEmpty():\n",
    "            raise Exception('Stack is empty')\n",
    "        return self.stack[-1]\n",
    "    def pop(self):\n",
    "        if self.isEmpty():\n",
    "            raise Exception('Stack is empty')\n",
    "        self.stack.pop()\n",
    "    def isFull(self):\n",
    "        if self.size == len(self.stack):\n",
    "            return True\n",
    "        else:\n",
    "            return False\n",
    "    def isEmpty(self):\n",
    "        if not self.stack:\n",
    "            return True\n",
    "        else:\n",
    "            return False\n",
    "    \n",
    "    \n",
    "def quickSortNonRec(arr, start, end):\n",
    "    stack = Stack(len(arr))\n",
    "    if start < end:\n",
    "        stack.push(end)\n",
    "        stack.push(start)\n",
    "        while not stack.isEmpty():\n",
    "            low  = stack.top()\n",
    "            stack.pop()\n",
    "            high = stack.top()\n",
    "            stack.pop()\n",
    "            mid = partition(arr, low, high)\n",
    "            if low < mid - 1:\n",
    "                stack.push(mid - 1)\n",
    "                stack.push(low)\n",
    "            if high > mid + 1:\n",
    "                stack.push(high)\n",
    "                stack.push(mid + 1)\n",
    "    return arr\n",
    "    \n",
    "\n",
    "def partition(arr, start, end):\n",
    "    low, high = start, end\n",
    "    key = arr[start]\n",
    "    while low < high:\n",
    "        while low < high and key <= arr[high]:\n",
    "            high -= 1\n",
    "        arr[low] = arr[high]\n",
    "        while low < high and key > arr[low]:\n",
    "            low  += 1\n",
    "        arr[high] = arr[low]\n",
    "        arr[low]  = key\n",
    "    return low"
   ]
  },
  {
   "cell_type": "code",
   "execution_count": 38,
   "metadata": {},
   "outputs": [
    {
     "data": {
      "text/plain": [
       "[1, 2, 3, 4, 5, 6, 7, 8, 9, 10]"
      ]
     },
     "execution_count": 38,
     "metadata": {},
     "output_type": "execute_result"
    }
   ],
   "source": [
    "arr1 = [7, 6, 3, 10, 4, 2, 1, 5, 9, 8]\n",
    "quickSortNonRec(arr1, 0, len(arr1) - 1)\n",
    "arr1"
   ]
  },
  {
   "cell_type": "markdown",
   "metadata": {},
   "source": [
    "## Insert sort"
   ]
  },
  {
   "cell_type": "code",
   "execution_count": 39,
   "metadata": {},
   "outputs": [],
   "source": [
    "def insertSort(arr):\n",
    "    if not arr:\n",
    "        return []\n",
    "    elif len(arr) == 1:\n",
    "        return arr\n",
    "    for i in range(1, len(arr)):\n",
    "        key = arr[i]\n",
    "        j = i - 1\n",
    "        while j >= 0 and arr[j] > key:\n",
    "            arr[j+1] = arr[j]\n",
    "            j -= 1\n",
    "        arr[j+1] = key\n",
    "    return arr"
   ]
  },
  {
   "cell_type": "code",
   "execution_count": 40,
   "metadata": {
    "collapsed": true
   },
   "outputs": [
    {
     "name": "stdout",
     "output_type": "stream",
     "text": [
      "[1, 2, 3, 4, 5, 6, 7, 8, 9, 10]\n"
     ]
    }
   ],
   "source": [
    "arr1 = [7, 6, 3, 10, 4, 2, 1, 5, 9, 8]\n",
    "print(insertSort(arr1))"
   ]
  },
  {
   "cell_type": "markdown",
   "metadata": {},
   "source": [
    "## Merge sort"
   ]
  },
  {
   "cell_type": "code",
   "execution_count": 61,
   "metadata": {},
   "outputs": [],
   "source": [
    "from math import floor\n",
    "\n",
    "def mergeSort(arr, start, end):\n",
    "    if start < end:\n",
    "        mid = floor((start + end) / 2)\n",
    "        mergeSort(arr, start, mid)\n",
    "        mergeSort(arr, mid + 1, end)\n",
    "        merge(arr, start, mid, end)\n",
    "    return arr\n",
    "\n",
    "def merge(arr, start, mid, end):\n",
    "    '''\n",
    "    b1: beginPart1\n",
    "    b2: beginPart2\n",
    "    '''\n",
    "    lst = []\n",
    "    b1, b2 = start, mid + 1\n",
    "    while b1 <= mid and b2 <= end:\n",
    "        if arr[b1] >= arr[b2]:\n",
    "            lst.append(arr[b2])\n",
    "            b2 += 1\n",
    "        else:\n",
    "            lst.append(arr[b1])\n",
    "            b1 += 1\n",
    "    \n",
    "    while b1 <= mid:\n",
    "        lst.append(arr[b1])\n",
    "        b1 += 1\n",
    "    while b2 <= end:\n",
    "        lst.append(arr[b2])\n",
    "        b2 += 1\n",
    "    \n",
    "    arr[start:end+1] = lst\n",
    "    return arr"
   ]
  },
  {
   "cell_type": "code",
   "execution_count": 63,
   "metadata": {},
   "outputs": [
    {
     "name": "stdout",
     "output_type": "stream",
     "text": [
      "[1, 2, 3, 4, 5, 6, 7, 8, 9, 10]\n"
     ]
    }
   ],
   "source": [
    "arr = [7, 6, 3, 10, 4, 2, 1, 5, 9, 8]\n",
    "#arr = [5, 4]\n",
    "print(mergeSort(arr, 0, len(arr) - 1))"
   ]
  },
  {
   "cell_type": "markdown",
   "metadata": {},
   "source": [
    "## Heap sort\n",
    "\n",
    "[堆排序详解](https://github.com/PegasusWang/python_data_structures_and_algorithms/blob/master/docs/15_%E5%A0%86%E4%B8%8E%E5%A0%86%E6%8E%92%E5%BA%8F/heap_and_heapsort.md)"
   ]
  },
  {
   "cell_type": "code",
   "execution_count": 8,
   "metadata": {},
   "outputs": [],
   "source": [
    "class Array(object):\n",
    "\n",
    "    def __init__(self, size = 32):\n",
    "        self._size = size\n",
    "        self._items = [None] * size\n",
    "\n",
    "    def __getitem__(self, index):\n",
    "        return self._items[index]\n",
    "\n",
    "    def __setitem__(self, index, value):\n",
    "        self._items[index] = value\n",
    "\n",
    "    def __len__(self):\n",
    "        return self._size\n",
    "\n",
    "    def clear(self, value = None):\n",
    "        for i in range(len(self._items)):\n",
    "            self._items[i] = value\n",
    "\n",
    "    def __iter__(self):\n",
    "        for item in self._items:\n",
    "            yield item\n",
    "            \n",
    "class MaxHeap(object):\n",
    "    \"\"\"\n",
    "    Heaps:\n",
    "    完全二叉树，最大堆的非叶子节点的值都比孩子大，最小堆的非叶子结点的值都比孩子小\n",
    "    Heap包含两个属性，order property 和 shape property(a complete binary tree)，在插入\n",
    "    一个新节点的时候，始终要保持这两个属性\n",
    "    插入操作：保持堆属性和完全二叉树属性, sift-up 操作维持堆属性\n",
    "    extract操作：只获取根节点数据，并把树最底层最右节点copy到根节点后，sift-down操作维持堆属性\n",
    "    用数组实现heap，从根节点开始，从上往下从左到右给每个节点编号，则根据完全二叉树的\n",
    "    性质，给定一个节点i， 其父亲和孩子节点的编号分别是:\n",
    "        parent = (i-1) // 2\n",
    "        left = 2 * i + 1\n",
    "        rgiht = 2 * i + 2\n",
    "    使用数组实现堆一方面效率更高，节省树节点的内存占用，一方面还可以避免复杂的指针操作，减少\n",
    "    调试难度。\n",
    "    \"\"\"\n",
    "\n",
    "    def __init__(self, maxsize = None):\n",
    "        self.maxsize = maxsize\n",
    "        self._elements = Array(maxsize)\n",
    "        self._count = 0\n",
    "\n",
    "    def __len__(self):\n",
    "        return self._count\n",
    "\n",
    "    def add(self, value):\n",
    "        if self._count >= self.maxsize:\n",
    "            raise Exception('full')\n",
    "        self._elements[self._count] = value\n",
    "        self._count += 1\n",
    "        self._siftup(self._count - 1)  # 维持堆的特性\n",
    "\n",
    "    def _siftup(self, ndx):\n",
    "        if ndx > 0:\n",
    "            parent = int((ndx-1)/2)\n",
    "            if self._elements[ndx] > self._elements[parent]:    # 如果插入的值大于 parent，一直交换\n",
    "                self._elements[ndx], self._elements[parent] = self._elements[parent], self._elements[ndx]\n",
    "                self._siftup(parent)    # 递归\n",
    "\n",
    "    def extract(self):\n",
    "        if self._count <= 0:\n",
    "            raise Exception('empty')\n",
    "        value = self._elements[0]    # 保存 root 值\n",
    "        self._count -= 1\n",
    "        self._elements[0] = self._elements[self._count]    # 最右下的节点放到root后siftDown\n",
    "        self._siftdown(0)    # 维持堆特性\n",
    "        return value\n",
    "\n",
    "    def _siftdown(self, ndx):\n",
    "        left = 2 * ndx + 1\n",
    "        right = 2 * ndx + 2\n",
    "        # determine which node contains the larger value\n",
    "        largest = ndx\n",
    "        if (left < self._count and     # 有左孩子\n",
    "                self._elements[left] >= self._elements[largest] and\n",
    "                self._elements[left] >= self._elements[right]):  # 原书这个地方没写实际上找的未必是largest\n",
    "            largest = left\n",
    "        elif right < self._count and self._elements[right] >= self._elements[largest]:\n",
    "            largest = right\n",
    "        if largest != ndx:\n",
    "            self._elements[ndx], self._elements[largest] = self._elements[largest], self._elements[ndx]\n",
    "            self._siftdown(largest)\n",
    "\n",
    "\n",
    "def test_maxheap():\n",
    "    import random\n",
    "    n = 5\n",
    "    h = MaxHeap(n)\n",
    "    for i in range(n):\n",
    "        h.add(i)\n",
    "    for i in reversed(range(n)):\n",
    "        assert i == h.extract()\n",
    "\n",
    "\n",
    "def heapsort_reverse(array):\n",
    "    length = len(array)\n",
    "    maxheap = MaxHeap(length)\n",
    "    for i in array:\n",
    "        maxheap.add(i)\n",
    "    res = []\n",
    "    for i in range(length):\n",
    "        res.append(maxheap.extract())\n",
    "    return res\n",
    "\n",
    "\n",
    "def test_heapsort_reverse():\n",
    "    import random\n",
    "    l = list(range(10))\n",
    "    random.shuffle(l)\n",
    "    assert heapsort_reverse(l) == sorted(l, reverse=True)"
   ]
  },
  {
   "cell_type": "code",
   "execution_count": 9,
   "metadata": {},
   "outputs": [],
   "source": [
    "test_maxheap()\n",
    "test_heapsort_reverse()"
   ]
  },
  {
   "cell_type": "markdown",
   "metadata": {},
   "source": [
    "## Shell sort"
   ]
  },
  {
   "cell_type": "code",
   "execution_count": 3,
   "metadata": {},
   "outputs": [],
   "source": [
    "from math import floor\n",
    "def shellSort(arr):\n",
    "    step = floor(len(arr) / 2)\n",
    "    while step > 0:\n",
    "        for i in range(step, len(arr)):\n",
    "            if arr[i-step] > arr[i]:\n",
    "                arr[i], arr[i-step] = arr[i-step], arr[i]\n",
    "        step = floor(step / 2)\n",
    "    return arr"
   ]
  },
  {
   "cell_type": "code",
   "execution_count": 6,
   "metadata": {},
   "outputs": [
    {
     "name": "stdout",
     "output_type": "stream",
     "text": [
      "[1, 2, 3, 4, 5, 6, 7, 8, 9, 10]\n",
      "[1, 2, 4, 5, 3, 7, 6, 8, 9, 10, 10, 12]\n"
     ]
    }
   ],
   "source": [
    "arr  = [7, 6, 3, 10, 4, 2, 1, 5, 9, 8]\n",
    "arr1 = [7, 6, 3, 10, 4, 2, 1, 5, 9, 8, 12, 10]\n",
    "print(shellSort(arr))\n",
    "print(shellSort(arr1))"
   ]
  },
  {
   "cell_type": "code",
   "execution_count": null,
   "metadata": {},
   "outputs": [],
   "source": []
  }
 ],
 "metadata": {
  "kernelspec": {
   "display_name": "Python 3",
   "language": "python",
   "name": "python3"
  },
  "language_info": {
   "codemirror_mode": {
    "name": "ipython",
    "version": 3
   },
   "file_extension": ".py",
   "mimetype": "text/x-python",
   "name": "python",
   "nbconvert_exporter": "python",
   "pygments_lexer": "ipython3",
   "version": "3.6.5"
  },
  "toc": {
   "base_numbering": 1,
   "nav_menu": {},
   "number_sections": true,
   "sideBar": true,
   "skip_h1_title": false,
   "title_cell": "Table of Contents",
   "title_sidebar": "Contents",
   "toc_cell": false,
   "toc_position": {},
   "toc_section_display": true,
   "toc_window_display": true
  }
 },
 "nbformat": 4,
 "nbformat_minor": 2
}

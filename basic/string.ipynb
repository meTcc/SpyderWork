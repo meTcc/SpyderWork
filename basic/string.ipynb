{
 "cells": [
  {
   "cell_type": "markdown",
   "metadata": {},
   "source": [
    "# KMP\n",
    "KMP算法的关键是利用匹配失败后的信息，尽量减少模式串与主串的匹配次数以达到快速匹配的目的。函数本身包含了模式串的局部匹配信息。时间复杂度O(m+n)。"
   ]
  },
  {
   "cell_type": "code",
   "execution_count": 4,
   "metadata": {},
   "outputs": [],
   "source": [
    "def kmp(string, substring):\n",
    "    m = len(string)\n",
    "    n = len(substring)\n",
    "    cur = 0 #起始指针cur\n",
    "    table = partialTable(substring)\n",
    "    while cur <= m - n:\n",
    "        for i in range(n):\n",
    "            if string[i+cur] != substring[i]:\n",
    "                cur += max(i - table[i-1], 1)\n",
    "                break\n",
    "        else:\n",
    "            return True, cur\n",
    "    return False\n",
    "\n",
    "\n",
    "def partialTable(substring):\n",
    "    '''partialTable(\"ABCDABD\") -> [0, 0, 0, 0, 1, 2, 0]'''\n",
    "    prefix = set()\n",
    "    postfix = set()\n",
    "    step = [0]\n",
    "    for i in range(1,len(substring)):\n",
    "        #前缀：指除最后一个字符外，一个字符串的全部头部组合\n",
    "        #后缀：指除第一个字符外的全部尾部组合\n",
    "        prefix.add(substring[:i]) \n",
    "        postfix = {substring[j:i+1] for j in range(1,i+1)}\n",
    "        step.append(max([len(item) for item in (prefix & postfix \\\n",
    "                                                or {''})]))\n",
    "    return step\n",
    "\n",
    "def naiveMatch(string, substring):\n",
    "    m = len(string)\n",
    "    n = len(substring)\n",
    "    for i in range(m - n + 1):\n",
    "        if string[i: i+n] == substring:\n",
    "            return True\n",
    "    return False"
   ]
  },
  {
   "cell_type": "code",
   "execution_count": 6,
   "metadata": {},
   "outputs": [
    {
     "name": "stdout",
     "output_type": "stream",
     "text": [
      "True\n",
      "(True, 15)\n"
     ]
    }
   ],
   "source": [
    "print(naiveMatch(\"ABC ABCDAB ABCDABCDABDE\", \"ABCDABD\"))\n",
    "#print(partialTable(\"ABCDABD\"))\n",
    "print(kmp(\"BBC ABCDAB ABCDABCDABDE\", \"ABCDABD\"))"
   ]
  },
  {
   "cell_type": "markdown",
   "metadata": {},
   "source": [
    "# [KMP的改进](https://blog.csdn.net/qq_33160271/article/details/68065605)\n"
   ]
  },
  {
   "cell_type": "markdown",
   "metadata": {},
   "source": [
    "KMP算法中有一个不足的地方，子串的出现是随机的，如果子串在主串中的位置靠后时，KMP算法就会变得比较低效。比如：\n",
    "\n",
    "主串为：aspowqeursoolksnkhiozbgwoinpweuirabaac\n",
    "子串为：abaac\n",
    "\n",
    "显然，子串要到最后才会得到匹配．\n",
    "\n",
    "因此，可以选择从主串的首和尾同时开始匹配，且不需要比较到最末才判断是否存在匹配的子串，而是通过剩下的字符数，来判断是否存在足够的字符与子串匹配，如果不足的话，那样就不存在，否则就继续匹配下去。"
   ]
  },
  {
   "cell_type": "code",
   "execution_count": null,
   "metadata": {},
   "outputs": [],
   "source": []
  }
 ],
 "metadata": {
  "kernelspec": {
   "display_name": "Python 3",
   "language": "python",
   "name": "python3"
  },
  "language_info": {
   "codemirror_mode": {
    "name": "ipython",
    "version": 3
   },
   "file_extension": ".py",
   "mimetype": "text/x-python",
   "name": "python",
   "nbconvert_exporter": "python",
   "pygments_lexer": "ipython3",
   "version": "3.6.5"
  },
  "toc": {
   "base_numbering": 1,
   "nav_menu": {},
   "number_sections": true,
   "sideBar": true,
   "skip_h1_title": false,
   "title_cell": "Table of Contents",
   "title_sidebar": "Contents",
   "toc_cell": false,
   "toc_position": {},
   "toc_section_display": true,
   "toc_window_display": false
  }
 },
 "nbformat": 4,
 "nbformat_minor": 2
}

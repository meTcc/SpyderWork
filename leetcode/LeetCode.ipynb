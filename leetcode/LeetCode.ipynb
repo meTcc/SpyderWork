{
 "cells": [
  {
   "cell_type": "markdown",
   "metadata": {},
   "source": [
    "# Two Sum\n",
    "\n",
    "## Easy\n",
    "\n",
    "Given an array of integers, return indices of the two numbers such that they add up to a specific target.\n",
    "\n",
    "You may assume that each input would have exactly one solution, and you may not use the same element twice.\n",
    "\n",
    "Example:\n",
    "\n",
    "Given nums = [2, 7, 11, 15], target = 9,\n",
    "\n",
    "Because nums[0] + nums[1] = 2 + 7 = 9,\n",
    "return [0, 1]."
   ]
  },
  {
   "cell_type": "code",
   "execution_count": 4,
   "metadata": {},
   "outputs": [
    {
     "name": "stdout",
     "output_type": "stream",
     "text": [
      "using s1: [0, 1]\n",
      "using s2: [0, 1]\n",
      "-----------------------------------\n",
      "using s1: [0, 4]\n",
      "using s2: [0, 4]\n"
     ]
    }
   ],
   "source": [
    "class Solution(object):\n",
    "    def __init__(self):\n",
    "        pass\n",
    "    def s1(self, nums, target):\n",
    "        for i in range(len(nums)):\n",
    "            for j in range(i + 1, len(nums)):\n",
    "                if nums[i] + nums[j] == target:\n",
    "                    return [i, j]\n",
    "        return [] # did not find target in nums\n",
    "    \n",
    "    def s2(self, nums, target):\n",
    "        dictionary = {}\n",
    "        for i, num in enumerate(nums):\n",
    "            if target - num in dictionary:\n",
    "                return [dictionary[target - num], i]\n",
    "            dictionary[num] = i\n",
    "        return []\n",
    "    \n",
    "nums1   = [2, 7, 11, 15]\n",
    "target1 = 9\n",
    "nums2    = [1, 5, 7, 10, 3]\n",
    "target2 = 4\n",
    "\n",
    "man = Solution()\n",
    "print('using s1:', man.s1(nums1, target1))\n",
    "print('using s2:', man.s2(nums1, target1))\n",
    "print('-----------------------------------')\n",
    "print('using s1:', man.s1(nums2, target2))\n",
    "print('using s2:', man.s2(nums2, target2))"
   ]
  },
  {
   "cell_type": "markdown",
   "metadata": {},
   "source": [
    "# Add Two Numbers\n",
    "## medium\n",
    "You are given two non-empty linked lists representing two non-negative integers. The digits are stored in reverse order and each of their nodes contain a single digit. Add the two numbers and return it as a linked list.\n",
    "\n",
    "You may assume the two numbers do not contain any leading zero, except the number 0 itself.\n",
    "\n",
    "Example:\n",
    "\n",
    "Input: (2 -> 4 -> 3) + (5 -> 6 -> 4)\n",
    "Output: 7 -> 0 -> 8\n",
    "Explanation: 342 + 465 = 807."
   ]
  },
  {
   "cell_type": "code",
   "execution_count": 23,
   "metadata": {},
   "outputs": [
    {
     "name": "stdout",
     "output_type": "stream",
     "text": [
      "[8, 0, 7]\n",
      "-----------------------------\n",
      "[8, 0, 7]\n"
     ]
    }
   ],
   "source": [
    "# Definition for singly-linked list.\n",
    "class ListNode:\n",
    "    def __init__(self, x):\n",
    "        self.val = x\n",
    "        self.next = None\n",
    "\n",
    "class Solution:\n",
    "    def addTwoNumbers(self, l1, l2):\n",
    "        \"\"\"\n",
    "        :type l1: ListNode\n",
    "        :type l2: ListNode\n",
    "        :rtype: ListNode\n",
    "        \"\"\"\n",
    "        if not l1:\n",
    "            return l2\n",
    "        if not l2:\n",
    "            return l1\n",
    "        if l1.val + l2.val < 10:\n",
    "            l3 = ListNode(l1.val + l2.val)\n",
    "            l3.next = self.addTwoNumbers(l1.next, l2.next)\n",
    "        else:\n",
    "            l3 = ListNode(l1.val + l2.val - 10)\n",
    "            temp = ListNode(1)\n",
    "            temp.next = None\n",
    "            l3.next = self.addTwoNumbers(l1.next, \\\n",
    "                                         self.addTwoNumbers(l2.next, temp))\n",
    "            \n",
    "        return l3\n",
    "    \n",
    "l1 = ListNode(2)\n",
    "l2 = ListNode(4)\n",
    "l3 = ListNode(3)\n",
    "l1.next = l2\n",
    "l2.next = l3\n",
    "\n",
    "m1 = ListNode(5)\n",
    "m2 = ListNode(6)\n",
    "m3 = ListNode(4)\n",
    "m1.next = m2\n",
    "m2.next = m3\n",
    "\n",
    "man = Solution()\n",
    "linkedList = man.addTwoNumbers(l1, m1)\n",
    "# print linkedList reverse\n",
    "def reverseLinkedList(linkedList):\n",
    "    lst = []\n",
    "    while linkedList:\n",
    "        lst.append(linkedList.val)\n",
    "        linkedList = linkedList.next\n",
    "    return lst[::-1]\n",
    "\n",
    "\n",
    "def reverseLinkedList2(linkedList, lst = []):\n",
    "    if linkedList:\n",
    "        if linkedList.next:\n",
    "            reverseLinkedList2(linkedList.next)\n",
    "        lst.append(linkedList.val)\n",
    "    return lst\n",
    "\n",
    "print(reverseLinkedList(linkedList))\n",
    "print('-----------------------------')\n",
    "print(reverseLinkedList2(linkedList))\n"
   ]
  },
  {
   "cell_type": "markdown",
   "metadata": {},
   "source": [
    "# Longest Substring Without Repeating Characters\n",
    "## medium\n",
    "Given a string, find the length of the longest substring without repeating characters.\n",
    "\n",
    "Example 1:\n",
    "\n",
    "Input: \"abcabcbb\"\n",
    "Output: 3 \n",
    "Explanation: The answer is \"abc\", with the length of 3. \n",
    "Example 2:\n",
    "\n",
    "Input: \"bbbbb\"\n",
    "Output: 1\n",
    "Explanation: The answer is \"b\", with the length of 1.\n",
    "Example 3:\n",
    "\n",
    "Input: \"pwwkew\"\n",
    "Output: 3\n",
    "Explanation: The answer is \"wke\", with the length of 3. \n",
    "             Note that the answer must be a substring, \"pwke\" is a subsequence and not a substring."
   ]
  },
  {
   "cell_type": "code",
   "execution_count": 30,
   "metadata": {},
   "outputs": [
    {
     "name": "stdout",
     "output_type": "stream",
     "text": [
      "length of longest substirng of arr1 is: 4\n",
      "length of longest substirng of arr2 is: 3\n"
     ]
    }
   ],
   "source": [
    "class Solution(object):\n",
    "    def __init__(self):\n",
    "        pass\n",
    "    def lengthOfLongestSubstring(self, arr):\n",
    "        length, start, n = 0, 0, len(arr)\n",
    "        maps = {}\n",
    "        for i in range(n):\n",
    "            start  = max(start, maps.get(arr[i], -1) + 1)\n",
    "            length = max(length, i - start + 1)\n",
    "            maps[arr[i]] = i\n",
    "        return length\n",
    "    \n",
    "arr1 = 'abcdabbba'\n",
    "arr2 = 'abccba'\n",
    "man = Solution()\n",
    "print('length of longest substirng of arr1 is:', man.lengthOfLongestSubstring(arr1))\n",
    "print('length of longest substirng of arr2 is:', man.lengthOfLongestSubstring(arr2))\n"
   ]
  },
  {
   "cell_type": "code",
   "execution_count": null,
   "metadata": {},
   "outputs": [],
   "source": []
  }
 ],
 "metadata": {
  "kernelspec": {
   "display_name": "Python 3",
   "language": "python",
   "name": "python3"
  },
  "language_info": {
   "codemirror_mode": {
    "name": "ipython",
    "version": 3
   },
   "file_extension": ".py",
   "mimetype": "text/x-python",
   "name": "python",
   "nbconvert_exporter": "python",
   "pygments_lexer": "ipython3",
   "version": "3.6.5"
  },
  "toc": {
   "base_numbering": 1,
   "nav_menu": {},
   "number_sections": true,
   "sideBar": true,
   "skip_h1_title": false,
   "title_cell": "Table of Contents",
   "title_sidebar": "Contents",
   "toc_cell": false,
   "toc_position": {},
   "toc_section_display": true,
   "toc_window_display": true
  }
 },
 "nbformat": 4,
 "nbformat_minor": 2
}

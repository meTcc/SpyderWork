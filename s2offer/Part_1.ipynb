{
 "cells": [
  {
   "cell_type": "markdown",
   "metadata": {},
   "source": [
    "# [二维数组中的查找](https://www.nowcoder.com/practice/abc3fe2ce8e146608e868a70efebf62e?tpId=13&tqId=11154&tPage=1&rp=1&ru=/ta/coding-interviews&qru=/ta/coding-interviews/question-ranking)\n",
    "在一个二维数组中，每一行都按照从左到右递增的顺序排序，每一列都按照从上到下递增的顺序排序。请完成一个函数，输入这样的一个二维数组和一个整数，判断数组中是否含有该整数。\n"
   ]
  },
  {
   "cell_type": "code",
   "execution_count": 2,
   "metadata": {},
   "outputs": [],
   "source": [
    "def find(arr, target):\n",
    "    if not arr:\n",
    "        return False\n",
    "    row = 0\n",
    "    col = len(arr[0]) - 1\n",
    "    while row < len(arr) and col >= 0:\n",
    "        if arr[row][col] > target:\n",
    "            col -= 1\n",
    "        elif arr[row][col] < target:\n",
    "            row += 1\n",
    "        else:\n",
    "            return True\n",
    "    return False\n"
   ]
  },
  {
   "cell_type": "code",
   "execution_count": 3,
   "metadata": {},
   "outputs": [
    {
     "name": "stdout",
     "output_type": "stream",
     "text": [
      "False\n",
      "True\n"
     ]
    }
   ],
   "source": [
    "# test part\n",
    "arr = [\n",
    "       [1,   4,  7, 11, 15],\n",
    "       [2,   5,  8, 12, 19],\n",
    "       [3,   6,  9, 16, 22],\n",
    "       [10, 13, 14, 17, 24],\n",
    "       [18, 21, 23, 26, 30]\n",
    "      ]\n",
    "\n",
    "print(find(arr, 1.5))\n",
    "print(find(arr, 26))"
   ]
  },
  {
   "cell_type": "markdown",
   "metadata": {},
   "source": [
    "# [替换空格](https://www.nowcoder.com/practice/4060ac7e3e404ad1a894ef3e17650423?tpId=13&tqId=11155&tPage=1&rp=1&ru=/ta/coding-interviews&qru=/ta/coding-interviews/question-ranking)\n",
    "将一个字符串中的空格替换成 \"%20\""
   ]
  },
  {
   "cell_type": "code",
   "execution_count": 4,
   "metadata": {},
   "outputs": [],
   "source": [
    "def replace1(string):\n",
    "    if not string:\n",
    "        raise Exception('invalid input')\n",
    "    lst = list(string)\n",
    "    for i in range(len(lst)):\n",
    "        if lst[i] == ' ':\n",
    "            lst[i] = '%20'\n",
    "    return ''.join(lst)\n",
    "   "
   ]
  },
  {
   "cell_type": "code",
   "execution_count": 22,
   "metadata": {},
   "outputs": [],
   "source": [
    "def replace2(string):\n",
    "    if not string:\n",
    "        raise Exception('invalid input')\n",
    "    count  = 0\n",
    "    length = len(string)\n",
    "    for i in range(length):\n",
    "        if string[i] == ' ':\n",
    "            count += 1\n",
    "    newlen = length + 2 * count\n",
    "    lst = [None] * newlen\n",
    "    while length > 0:\n",
    "        if string[length - 1] == ' ':\n",
    "            lst[newlen - 1] = '0'\n",
    "            lst[newlen - 2] = '2'\n",
    "            lst[newlen - 3] = '%'\n",
    "            newlen -= 3\n",
    "        else:\n",
    "            lst[newlen - 1] = string[length - 1]\n",
    "            newlen -= 1\n",
    "        length -= 1\n",
    "    return ''.join(lst)"
   ]
  },
  {
   "cell_type": "code",
   "execution_count": 23,
   "metadata": {},
   "outputs": [
    {
     "name": "stdout",
     "output_type": "stream",
     "text": [
      "we%20are%20happy.\n",
      "we%20are%20happy.\n"
     ]
    }
   ],
   "source": [
    "string = 'we are happy.'\n",
    "print(replace1(string))\n",
    "print(replace2(string))"
   ]
  },
  {
   "cell_type": "markdown",
   "metadata": {},
   "source": [
    "# [从尾到头打印链表](https://www.nowcoder.com/practice/d0267f7f55b3412ba93bd35cfa8e8035?tpId=13&tqId=11156&tPage=1&rp=1&ru=/ta/coding-interviews&qru=/ta/coding-interviews/question-ranking)\n",
    "输入链表的第一个节点，从尾到头反过来打印出每个结点的值。"
   ]
  },
  {
   "cell_type": "code",
   "execution_count": 26,
   "metadata": {},
   "outputs": [],
   "source": [
    "# Pythonic\n",
    "def printReverse1(listNode):\n",
    "    if not listNode:\n",
    "        raise Exception('invalid input')\n",
    "    lst = []\n",
    "    while listNode:\n",
    "        lst.append(listNode.value)\n",
    "        listNode = listNode.next\n",
    "    return lst[::-1]\n"
   ]
  },
  {
   "cell_type": "code",
   "execution_count": 46,
   "metadata": {},
   "outputs": [],
   "source": [
    "# 递归\n",
    "def printReverse2(listNode):\n",
    "    if not listNode:\n",
    "        raise Exception('invalid input')\n",
    "    lst = []\n",
    "    if listNode:\n",
    "        if listNode.next:\n",
    "            lst += printReverse2(listNode.next)\n",
    "        lst.append(listNode.value)\n",
    "    return lst"
   ]
  },
  {
   "cell_type": "code",
   "execution_count": 35,
   "metadata": {},
   "outputs": [],
   "source": [
    "# 模拟栈\n",
    "def printReverse3(listNode):\n",
    "    if not listNode:\n",
    "        raise Exception('invalid input')\n",
    "    lst = []\n",
    "    while listNode:\n",
    "        lst.append(listNode.value)\n",
    "        listNode = listNode.next\n",
    "    lst = [lst.pop() for i in range(len(lst))]\n",
    "    return lst"
   ]
  },
  {
   "cell_type": "code",
   "execution_count": 49,
   "metadata": {},
   "outputs": [
    {
     "name": "stdout",
     "output_type": "stream",
     "text": [
      "[3, 2, 1]\n",
      "[3, 2, 1]\n",
      "[3, 2, 1]\n"
     ]
    }
   ],
   "source": [
    "class ListNode(object):\n",
    "    def __init__(self, value = None, next = None):\n",
    "        self.value = value\n",
    "        self.next  = next\n",
    "        \n",
    "l1 = ListNode(1)\n",
    "l2 = ListNode(2)\n",
    "l3 = ListNode(3)\n",
    "l1.next = l2\n",
    "l2.next = l3\n",
    "\n",
    "print(printReverse1(l1))\n",
    "print(printReverse2(l1))\n",
    "print(printReverse3(l1))"
   ]
  },
  {
   "cell_type": "markdown",
   "metadata": {},
   "source": [
    "# [重建二叉树](https://www.nowcoder.com/practice/8a19cbe657394eeaac2f6ea9b0f6fcf6?tpId=13&tqId=11157&tPage=1&rp=1&ru=/ta/coding-interviews&qru=/ta/coding-interviews/question-ranking)\n",
    "根据二叉树的前序遍历和中序遍历的结果，重建出该二叉树。假设输入的前序遍历和中序遍历的结果中都不含重复的数字。"
   ]
  },
  {
   "cell_type": "code",
   "execution_count": 53,
   "metadata": {},
   "outputs": [],
   "source": [
    "def reConstruct(pre, ino):\n",
    "    if len(pre) != len(ino):\n",
    "        raise Exception('wrong input')\n",
    "    if not pre or not ino:\n",
    "        return None\n",
    "    if len(pre) == 1:\n",
    "        return TreeNode(pre[0])\n",
    "    else:\n",
    "        flag = TreeNode(pre[0])\n",
    "    root = ino.index(pre[0])\n",
    "    flag.left  = reConstruct(pre[1:root+1], ino[0:root])\n",
    "    flag.right = reConstruct(pre[root+1:],  ino[root+1:])\n",
    "    return flag"
   ]
  },
  {
   "cell_type": "code",
   "execution_count": 54,
   "metadata": {},
   "outputs": [],
   "source": [
    "class TreeNode(object):\n",
    "    def __init__(self, value = None, left = None, right = None):\n",
    "        self.value = value\n",
    "        self.left  = left\n",
    "        self.right = right\n",
    "\n",
    "def preOrder(treeNode):\n",
    "    if treeNode:\n",
    "        print(treeNode.value)\n",
    "        preOrder(treeNode.left)\n",
    "        preOrder(treeNode.right)\n",
    "\n",
    "def inOrder(treeNode):\n",
    "    if treeNode:\n",
    "        inOrder(treeNode.left)\n",
    "        print(treeNode.value)\n",
    "        inOrder(treeNode.right)\n",
    "        \n",
    "def postOrder(treeNode):\n",
    "    if treeNode:\n",
    "        postOrder(treeNode.left)\n",
    "        postOrder(treeNode.right)\n",
    "        print(treeNode.value)\n",
    "\n",
    "root  = TreeNode(3)\n",
    "node1 = TreeNode(9)\n",
    "node2 = TreeNode(20)\n",
    "node3 = TreeNode(15)\n",
    "node4 = TreeNode(7)\n",
    "\n",
    "root.left   = node1\n",
    "root.right  = node2\n",
    "node2.left  = node3\n",
    "node3.right = node4"
   ]
  },
  {
   "cell_type": "code",
   "execution_count": 57,
   "metadata": {
    "collapsed": true
   },
   "outputs": [
    {
     "name": "stdout",
     "output_type": "stream",
     "text": [
      "3\n",
      "9\n",
      "20\n",
      "15\n",
      "7\n",
      "3\n",
      "9\n",
      "20\n",
      "15\n",
      "7\n",
      "3\n",
      "9\n",
      "20\n",
      "15\n",
      "7\n"
     ]
    },
    {
     "data": {
      "text/plain": [
       "True"
      ]
     },
     "execution_count": 57,
     "metadata": {},
     "output_type": "execute_result"
    }
   ],
   "source": [
    "pre = [3,9,20,15,7]\n",
    "ino = [9,3,15,20,7]\n",
    "\n",
    "preOrder(root)\n",
    "flag = reConstruct(pre, ino)\n",
    "preOrder(flag) == preOrder(root)"
   ]
  },
  {
   "cell_type": "markdown",
   "metadata": {},
   "source": [
    "# [用两个栈实现队列](https://www.nowcoder.com/practice/54275ddae22f475981afa2244dd448c6?tpId=13&tqId=11158&tPage=1&rp=1&ru=/ta/coding-interviews&qru=/ta/coding-interviews/question-ranking)\n",
    "用两个栈来实现一个队列，完成队列的 Push 和 Pop 操作。"
   ]
  },
  {
   "cell_type": "code",
   "execution_count": 58,
   "metadata": {},
   "outputs": [],
   "source": [
    "class Solution(object):\n",
    "    def __init__(self, maxsize):\n",
    "        self.stack1 = []\n",
    "        self.stack2 = []\n",
    "        \n",
    "    def push(self, val):\n",
    "        self.stack1.append(val)\n",
    "    \n",
    "    def pop(self):\n",
    "        if self.stack2 == []:\n",
    "            while self.stack1:\n",
    "                self.stack2.append(self.stack1.pop())\n",
    "        return self.stack2.pop()"
   ]
  },
  {
   "cell_type": "markdown",
   "metadata": {},
   "source": [
    "# [斐波那契数列](https://www.nowcoder.com/practice/c6c7742f5ba7442aada113136ddea0c3?tpId=13&tqId=11160&tPage=1&rp=1&ru=/ta/coding-interviews&qru=/ta/coding-interviews/question-ranking)"
   ]
  },
  {
   "cell_type": "code",
   "execution_count": 79,
   "metadata": {},
   "outputs": [],
   "source": [
    "class Fibonacci(object):\n",
    "    def __init__(self):\n",
    "        pass\n",
    "    \n",
    "    def s1(self, n):\n",
    "        if not isinstance(n, int) and n < 0:\n",
    "            raise Exception('invalid input')\n",
    "        if n < 2:\n",
    "            return n\n",
    "        return self.s1(n-1) + self.s1(n-2)\n",
    "    \n",
    "    def s2(self, n):\n",
    "        num, a, b = 0, 0, 1\n",
    "        while num < n:\n",
    "            a, b = b, a + b\n",
    "            num += 1\n",
    "        return a\n",
    "    \n",
    "    def s3(self, n):\n",
    "        num, a, b = 0, 0, 1\n",
    "        while num <= n:\n",
    "            yield a\n",
    "            num, a, b = num + 1, b, a + b\n",
    "            \n",
    "    def s4(self, n):\n",
    "        lst = [0, 1]\n",
    "        if n >= 2:\n",
    "            for i in range(2, n + 1):\n",
    "                lst.append(lst[-1] + lst[-2])\n",
    "        return lst        "
   ]
  },
  {
   "cell_type": "code",
   "execution_count": 80,
   "metadata": {},
   "outputs": [
    {
     "name": "stdout",
     "output_type": "stream",
     "text": [
      "5\n",
      "5\n",
      "0\n",
      "1\n",
      "1\n",
      "2\n",
      "3\n",
      "5\n",
      "[0, 1, 1, 2, 3, 5]\n"
     ]
    }
   ],
   "source": [
    "man = Fibonacci()\n",
    "print(man.s1(5))\n",
    "print(man.s2(5))\n",
    "for val in man.s3(5):\n",
    "    print(val)\n",
    "print(man.s4(5))"
   ]
  },
  {
   "cell_type": "markdown",
   "metadata": {},
   "source": [
    "# [跳台阶](https://www.nowcoder.com/practice/8c82a5b80378478f9484d87d1c5f12a4?tpId=13&tqId=11161&tPage=1&rp=1&ru=/ta/coding-interviews&qru=/ta/coding-interviews/question-ranking)\n",
    "一只青蛙一次可以跳上 1 级台阶，也可以跳上 2 级。求该青蛙跳上一个 n 级的台阶总共有多少种跳法。"
   ]
  },
  {
   "cell_type": "code",
   "execution_count": 87,
   "metadata": {},
   "outputs": [],
   "source": [
    "def jumpFloor1(n):\n",
    "    if n == 0 or n == 1 or n == 2:\n",
    "        return n\n",
    "    return jumpFloor1(n-1) + jumpFloor1(n-2)\n",
    "\n",
    "def jumpFloor2(n):\n",
    "    if n == 0:\n",
    "        return 0\n",
    "    num, a, b = 0, 0, 1\n",
    "    while num < n:\n",
    "        a, b, = b, a+b\n",
    "        num += 1\n",
    "    return b  #需注意与单纯的Ｆｉｂ数列的区别"
   ]
  },
  {
   "cell_type": "code",
   "execution_count": 89,
   "metadata": {
    "collapsed": true
   },
   "outputs": [
    {
     "name": "stdout",
     "output_type": "stream",
     "text": [
      "5\n",
      "5\n"
     ]
    }
   ],
   "source": [
    "print(jumpFloor1(4))\n",
    "print(jumpFloor2(4))"
   ]
  },
  {
   "cell_type": "markdown",
   "metadata": {},
   "source": [
    "# [矩形覆盖](https://www.nowcoder.com/practice/72a5a919508a4251859fb2cfb987a0e6?tpId=13&tqId=11163&tPage=1&rp=1&ru=/ta/coding-interviews&qru=/ta/coding-interviews/question-ranking)\n",
    "\n",
    "我们可以用 长宽分别２和１的小矩形横着或者竖着去覆盖更大的矩形。请问用n个长宽分别是２和1 的小矩形无重叠地覆盖一个 2*n 的大矩形，总共有多少种方法？"
   ]
  },
  {
   "cell_type": "code",
   "execution_count": 90,
   "metadata": {},
   "outputs": [],
   "source": [
    "def rectCover(n):\n",
    "    if n in (1, 2):\n",
    "        return n\n",
    "    a, b = 1, 2\n",
    "    res = 0\n",
    "    for num in range(3, n + 1):\n",
    "        res = a + b\n",
    "        a, b = b, a+b\n",
    "    return res"
   ]
  },
  {
   "cell_type": "markdown",
   "metadata": {},
   "source": [
    "# [变态跳台阶](https://www.nowcoder.com/practice/22243d016f6b47f2a6928b4313c85387?tpId=13&tqId=11162&tPage=1&rp=1&ru=/ta/coding-interviews&qru=/ta/coding-interviews/question-ranking)\n",
    "一只青蛙一次可以跳上 1 级台阶，也可以跳上 2 级... 它也可以跳上 n 级。求该青蛙跳上一个 n 级的台阶总共有多少种跳法。"
   ]
  },
  {
   "cell_type": "code",
   "execution_count": 91,
   "metadata": {},
   "outputs": [],
   "source": [
    "def extremeJump(n):\n",
    "    if n in (0, 1):\n",
    "        return n\n",
    "    return pow(2, n-1)"
   ]
  },
  {
   "cell_type": "markdown",
   "metadata": {},
   "source": [
    "# [旋转数组中的最小数字](https://www.nowcoder.com/practice/9f3231a991af4f55b95579b44b7a01ba?tpId=13&tqId=11159&tPage=1&rp=1&ru=/ta/coding-interviews&qru=/ta/coding-interviews/question-ranking)\n",
    "把一个数组最开始的若干个元素搬到数组的末尾，我们称之为数组的旋转。输入一个非递减排序的数组的一个旋转，输出旋转数组的最小元素。\n",
    "\n",
    "例如数组 {3, 4, 5, 1, 2} 为 {1, 2, 3, 4, 5} 的一个旋转，该数组的最小值为 1。"
   ]
  },
  {
   "cell_type": "code",
   "execution_count": 11,
   "metadata": {},
   "outputs": [],
   "source": [
    "from math import floor\n",
    "\n",
    "def findMin(arr):\n",
    "    if not arr:\n",
    "        raise Exception('wrong input')\n",
    "    start, end = 0, len(arr) - 1\n",
    "    while arr[start] >= arr[end]:   #保证数组的性质不变\n",
    "        if len(arr[start: end+1]) == 2:\n",
    "            mid = end\n",
    "            break\n",
    "        mid = floor((start + end) / 2)\n",
    "        if arr[mid] == arr[start] == arr[end]:\n",
    "            return mini(arr, start, end)\n",
    "        if arr[mid] >= arr[start]:\n",
    "            start = mid\n",
    "        elif arr[mid] <= arr[end]:\n",
    "            end = mid\n",
    "    return arr[mid]\n",
    "\n",
    "def mini(arr, start, end):\n",
    "    mini = arr[start]\n",
    "    for value in arr[start+1, end + 1]:\n",
    "        if value < mini:\n",
    "            mini = value\n",
    "    return mini"
   ]
  },
  {
   "cell_type": "code",
   "execution_count": 18,
   "metadata": {},
   "outputs": [
    {
     "name": "stdout",
     "output_type": "stream",
     "text": [
      "1\n",
      "0\n"
     ]
    },
    {
     "data": {
      "text/plain": [
       "0.00042629241943359375"
      ]
     },
     "execution_count": 18,
     "metadata": {},
     "output_type": "execute_result"
    }
   ],
   "source": [
    "import time\n",
    "t1 = time.time()\n",
    "arr1 = [3, 4, 5, 1, 2]\n",
    "arr2 = [1, 1, 1, 1, 1, 1, 1, 1, 1, 0, 0, 0, 0, 1, 1, 1, 1 ,1, 1, 1, 1, 1 ]\n",
    "print(findMin(arr1))\n",
    "print(findMin(arr2))\n",
    "t2 = time.time()\n",
    "t2 - t1"
   ]
  },
  {
   "cell_type": "markdown",
   "metadata": {},
   "source": [
    "# [剪绳子](https://leetcode.com/problems/integer-break/description/)\n",
    "把一根绳子剪成多段，并且使得每段的长度乘积最大。"
   ]
  },
  {
   "cell_type": "code",
   "execution_count": 32,
   "metadata": {},
   "outputs": [],
   "source": [
    "def cutRope1(length):\n",
    "    # 贪心法\n",
    "    if length < 2:\n",
    "        return 'no need to cut'\n",
    "    if length == 2:\n",
    "        return 1\n",
    "    if length == 3:\n",
    "        return 2\n",
    "    times3 = int(length / 3)\n",
    "    if length % 3 == 1:\n",
    "        return pow(3, times3 - 1) * 4\n",
    "    elif length % 3 == 2:\n",
    "        return pow(3, times3) * 2\n",
    "    else:\n",
    "        return pow(3, times3)\n",
    "    #if length % 3 == 1:\n",
    "    #   time3 -= 1\n",
    "    #times2 = (length - times3 * 3) / 2\n",
    "    #return pow(3, times3) * pow(2, times2)\n",
    "\n",
    "def cutRope2(length):\n",
    "    lst = [0] * (length + 1)\n",
    "    lst[1] = 1\n",
    "    for i in range(2, length + 1):\n",
    "        for j in range(1, i):\n",
    "            lst[i] = max(lst[i], max(j * (i - j), lst[j] * (i - j)))\n",
    "    return lst[-1]"
   ]
  },
  {
   "cell_type": "code",
   "execution_count": 36,
   "metadata": {},
   "outputs": [
    {
     "name": "stdout",
     "output_type": "stream",
     "text": [
      "36\n",
      "54\n",
      "49249860626508115950221576820856261725549053528357022415597639666615200316290469655281280800686109995920742231023231776608477174\n",
      "0.00011610984802246094\n",
      "dp\n",
      "36\n",
      "54\n",
      "49249860626508115950221576820856261725549053528357022415597639666615200316290469655281280800686109995920742231023231776608477174\n",
      "0.19138860702514648\n"
     ]
    }
   ],
   "source": [
    "import time\n",
    "print(cutRope1(10))\n",
    "print(cutRope1(11))\n",
    "t1 = time.time()\n",
    "print(cutRope1(803))\n",
    "t2 = time.time()\n",
    "print(t2 - t1)\n",
    "print('dp')\n",
    "print(cutRope2(10))\n",
    "print(cutRope2(11))\n",
    "t1 = time.time()\n",
    "print(cutRope2(803))\n",
    "t2 = time.time()\n",
    "print(t2 - t1)"
   ]
  },
  {
   "cell_type": "code",
   "execution_count": null,
   "metadata": {},
   "outputs": [],
   "source": []
  }
 ],
 "metadata": {
  "kernelspec": {
   "display_name": "Python 3",
   "language": "python",
   "name": "python3"
  },
  "language_info": {
   "codemirror_mode": {
    "name": "ipython",
    "version": 3
   },
   "file_extension": ".py",
   "mimetype": "text/x-python",
   "name": "python",
   "nbconvert_exporter": "python",
   "pygments_lexer": "ipython3",
   "version": "3.6.5"
  },
  "toc": {
   "base_numbering": 1,
   "nav_menu": {},
   "number_sections": true,
   "sideBar": true,
   "skip_h1_title": false,
   "title_cell": "Table of Contents",
   "title_sidebar": "Contents",
   "toc_cell": false,
   "toc_position": {},
   "toc_section_display": true,
   "toc_window_display": true
  }
 },
 "nbformat": 4,
 "nbformat_minor": 2
}
